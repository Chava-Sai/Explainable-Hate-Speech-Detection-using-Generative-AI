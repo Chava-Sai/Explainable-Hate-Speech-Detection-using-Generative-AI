{
  "nbformat": 4,
  "nbformat_minor": 0,
  "metadata": {
    "colab": {
      "provenance": []
    },
    "kernelspec": {
      "name": "python3",
      "display_name": "Python 3"
    },
    "language_info": {
      "name": "python"
    }
  },
  "cells": [
    {
      "cell_type": "code",
      "execution_count": null,
      "metadata": {
        "colab": {
          "base_uri": "https://localhost:8080/"
        },
        "id": "mPUGJwzdoPMc",
        "outputId": "d858fcfe-a4ed-4b99-a524-d1b8cd5739ef"
      },
      "outputs": [
        {
          "output_type": "stream",
          "name": "stdout",
          "text": [
            "\u001b[?25l     \u001b[90m━━━━━━━━━━━━━━━━━━━━━━━━━━━━━━━━━━━━━━━━\u001b[0m \u001b[32m0.0/132.8 kB\u001b[0m \u001b[31m?\u001b[0m eta \u001b[36m-:--:--\u001b[0m\r\u001b[2K     \u001b[90m━━━━━━━━━━━━━━━━━━━━━━━━━━━━━━━━━━━━━━━━\u001b[0m \u001b[32m132.8/132.8 kB\u001b[0m \u001b[31m3.8 MB/s\u001b[0m eta \u001b[36m0:00:00\u001b[0m\n",
            "\u001b[?25h"
          ]
        }
      ],
      "source": [
        "!pip install sentence_transformers -q"
      ]
    },
    {
      "cell_type": "code",
      "source": [
        "from bs4 import BeautifulSoup\n",
        "import re\n",
        "import pandas as pd\n",
        "\n",
        "def extract_title_and_content(html_file):\n",
        "    with open(html_file, 'r', encoding='utf-8') as file:\n",
        "        html_content = file.read()\n",
        "\n",
        "    soup = BeautifulSoup(html_content, 'html.parser')\n",
        "\n",
        "    # Extract title\n",
        "    title = soup.title.string if soup.title else None\n",
        "\n",
        "    # Remove script and style tags\n",
        "    for script in soup([\"script\", \"style\"]):\n",
        "        script.extract()\n",
        "\n",
        "    # Exclude elements by their attributes or specific content\n",
        "    excluded_tags = ['script', 'style', 'meta', 'noscript', 'footer', 'nav', 'aside']\n",
        "    for tag in soup(excluded_tags):\n",
        "        tag.extract()\n",
        "\n",
        "    # Extract text content\n",
        "    content = soup.get_text().strip()\n",
        "\n",
        "    return title, content\n",
        "\n",
        "if __name__ == \"__main__\":\n",
        "    html_file = 'Opinion_ Yes, Hinduism Is Indeed Under Threat.html'\n",
        "    title, content = extract_title_and_content(html_file)\n",
        "\n",
        "    # Load existing data or create new DataFrame\n",
        "    try:\n",
        "        existing_data = pd.read_excel('VectorDB_Data.xlsx')\n",
        "    except FileNotFoundError:\n",
        "        existing_data = pd.DataFrame(columns=['Data'])\n",
        "\n",
        "    # Append new data to existing DataFrame or create new DataFrame\n",
        "    new_data = {'Data': content}\n",
        "    existing_data = existing_data.append(new_data, ignore_index=True)\n",
        "\n",
        "    # Save the data in an Excel file\n",
        "    existing_data.to_excel('VectorDB_Data.xlsx', index=False)\n",
        "\n",
        "    print(\"Data saved\")\n"
      ],
      "metadata": {
        "id": "ELyUYNWnpjDc"
      },
      "execution_count": null,
      "outputs": []
    },
    {
      "cell_type": "code",
      "source": [
        "import pandas as pd\n",
        "\n",
        "df = pd.read_excel(\"VectorDB_Data.xlsx\")\n",
        "df.head()"
      ],
      "metadata": {
        "id": "1HTrYEZUqMar"
      },
      "execution_count": null,
      "outputs": []
    }
  ]
}